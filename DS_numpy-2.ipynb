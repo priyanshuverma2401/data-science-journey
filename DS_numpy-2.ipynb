{
 "cells": [
  {
   "cell_type": "markdown",
   "id": "140cb698-e7ab-414d-9e02-3fb39093b697",
   "metadata": {},
   "source": [
    "### Arithmatic Operation on numpy array"
   ]
  },
  {
   "cell_type": "code",
   "execution_count": 1,
   "id": "58bdece9-b03e-4b13-9a52-58b497703d88",
   "metadata": {},
   "outputs": [],
   "source": [
    "import numpy as np"
   ]
  },
  {
   "cell_type": "code",
   "execution_count": 3,
   "id": "d2d2c5b3-f1d9-4df8-a866-8aa16f9c12f1",
   "metadata": {},
   "outputs": [
    {
     "name": "stdout",
     "output_type": "stream",
     "text": [
      "[1 2 3 4]\n"
     ]
    }
   ],
   "source": [
    "a = np.array([1,2,3,4])\n",
    "print(a)"
   ]
  },
  {
   "cell_type": "code",
   "execution_count": 4,
   "id": "c0a8165f-d98d-445c-b5fb-d9296842988b",
   "metadata": {},
   "outputs": [
    {
     "name": "stdout",
     "output_type": "stream",
     "text": [
      "[3 4 5 6]\n"
     ]
    }
   ],
   "source": [
    "b = a+2\n",
    "print(b)"
   ]
  },
  {
   "cell_type": "code",
   "execution_count": 5,
   "id": "6ff36805-3b91-4ec7-8727-408a3f0728b1",
   "metadata": {},
   "outputs": [
    {
     "data": {
      "text/plain": [
       "array([-1,  0,  1,  2])"
      ]
     },
     "execution_count": 5,
     "metadata": {},
     "output_type": "execute_result"
    }
   ],
   "source": [
    "a-2"
   ]
  },
  {
   "cell_type": "code",
   "execution_count": 6,
   "id": "841a3578-7222-45f8-a29c-25cb39478806",
   "metadata": {},
   "outputs": [
    {
     "data": {
      "text/plain": [
       "array([2, 4, 6, 8])"
      ]
     },
     "execution_count": 6,
     "metadata": {},
     "output_type": "execute_result"
    }
   ],
   "source": [
    "a*2"
   ]
  },
  {
   "cell_type": "code",
   "execution_count": 7,
   "id": "6eaac337-a9f4-4a6c-a8d7-c311c25d5db0",
   "metadata": {},
   "outputs": [
    {
     "data": {
      "text/plain": [
       "array([0.5, 1. , 1.5, 2. ])"
      ]
     },
     "execution_count": 7,
     "metadata": {},
     "output_type": "execute_result"
    }
   ],
   "source": [
    "a/2"
   ]
  },
  {
   "cell_type": "code",
   "execution_count": 8,
   "id": "5769d165-aea0-48df-a6f9-60c181941ada",
   "metadata": {},
   "outputs": [
    {
     "data": {
      "text/plain": [
       "array([1, 2, 0, 1], dtype=int32)"
      ]
     },
     "execution_count": 8,
     "metadata": {},
     "output_type": "execute_result"
    }
   ],
   "source": [
    "a%3"
   ]
  },
  {
   "cell_type": "code",
   "execution_count": 9,
   "id": "8c64be7d-de2b-44f2-b144-2af66dab9737",
   "metadata": {},
   "outputs": [
    {
     "data": {
      "text/plain": [
       "array([ 1,  4,  9, 16])"
      ]
     },
     "execution_count": 9,
     "metadata": {},
     "output_type": "execute_result"
    }
   ],
   "source": [
    "a**2"
   ]
  },
  {
   "cell_type": "code",
   "execution_count": 10,
   "id": "c3c07567-4eef-4c20-9780-3544ddc2a0d1",
   "metadata": {},
   "outputs": [
    {
     "data": {
      "text/plain": [
       "array([ 6,  8, 10, 12])"
      ]
     },
     "execution_count": 10,
     "metadata": {},
     "output_type": "execute_result"
    }
   ],
   "source": [
    "#adding two array\n",
    "a= np.array([1,2,3,4])\n",
    "b= np.array([5,6,7,8])\n",
    "a+b"
   ]
  },
  {
   "cell_type": "code",
   "execution_count": 11,
   "id": "422265a3-5a82-439d-99a5-31b28aa8a6ab",
   "metadata": {},
   "outputs": [
    {
     "data": {
      "text/plain": [
       "array([ 0.84147098,  0.90929743,  0.14112001, -0.7568025 ])"
      ]
     },
     "execution_count": 11,
     "metadata": {},
     "output_type": "execute_result"
    }
   ],
   "source": [
    "#trignometry function\n",
    "np.sin(a)"
   ]
  },
  {
   "cell_type": "code",
   "execution_count": 13,
   "id": "badf1699-d478-47f3-9479-59611598267b",
   "metadata": {},
   "outputs": [
    {
     "data": {
      "text/plain": [
       "0.1411200080598672"
      ]
     },
     "execution_count": 13,
     "metadata": {},
     "output_type": "execute_result"
    }
   ],
   "source": [
    "np.sin(a[2])"
   ]
  },
  {
   "cell_type": "markdown",
   "id": "65bbeaf3-2d87-4979-bcc6-9fd92595ac8b",
   "metadata": {},
   "source": [
    "### Linear Algebra"
   ]
  },
  {
   "cell_type": "code",
   "execution_count": 15,
   "id": "9717bf82-cf46-4ee3-b929-c9b30b7c2d16",
   "metadata": {},
   "outputs": [
    {
     "name": "stdout",
     "output_type": "stream",
     "text": [
      "[[1 2 3 4]\n",
      " [5 6 7 8]]\n",
      "[[1 2]\n",
      " [3 4]\n",
      " [5 6]\n",
      " [7 8]]\n"
     ]
    }
   ],
   "source": [
    "a = np.array([[1,2,3,4],[5,6,7,8]])\n",
    "print(a)\n",
    "b= np.array([[1,2],[3,4],[5,6],[7,8]])\n",
    "print(b)"
   ]
  },
  {
   "cell_type": "code",
   "execution_count": 16,
   "id": "651dee99-004f-4f8a-be16-80039d57e8f0",
   "metadata": {},
   "outputs": [
    {
     "data": {
      "text/plain": [
       "array([[ 50,  60],\n",
       "       [114, 140]])"
      ]
     },
     "execution_count": 16,
     "metadata": {},
     "output_type": "execute_result"
    }
   ],
   "source": [
    "#matrix multiplication\n",
    "np.matmul(a,b)"
   ]
  },
  {
   "cell_type": "code",
   "execution_count": 17,
   "id": "95bcf04d-f987-42e1-80e5-ae864662faab",
   "metadata": {},
   "outputs": [
    {
     "data": {
      "text/plain": [
       "1.598721155460225e-14"
      ]
     },
     "execution_count": 17,
     "metadata": {},
     "output_type": "execute_result"
    }
   ],
   "source": [
    "#determinant of a matrix\n",
    "a = np.array([[1,2,3],[7,8,9],[10,11,12]])\n",
    "np.linalg.det(a)"
   ]
  },
  {
   "cell_type": "code",
   "execution_count": 18,
   "id": "c735186f-3fd8-487d-ad0a-77dc18b78b61",
   "metadata": {},
   "outputs": [
    {
     "data": {
      "text/plain": [
       "EigResult(eigenvalues=array([ 2.22153745e+01, -1.21537451e+00,  1.77757645e-15]), eigenvectors=array([[ 0.1673669 ,  0.82918265,  0.40824829],\n",
       "       [ 0.5848926 , -0.09125787, -0.81649658],\n",
       "       [ 0.79365545, -0.55147813,  0.40824829]]))"
      ]
     },
     "execution_count": 18,
     "metadata": {},
     "output_type": "execute_result"
    }
   ],
   "source": [
    "#finding eigen value\n",
    "np.linalg.eig(a)"
   ]
  },
  {
   "cell_type": "markdown",
   "id": "22297142-1e27-4e69-bb67-8cc6b7018f0b",
   "metadata": {},
   "source": [
    "### Statistics Operation"
   ]
  },
  {
   "cell_type": "code",
   "execution_count": 20,
   "id": "464cd9b4-42d8-4c1b-9859-2176821643d9",
   "metadata": {},
   "outputs": [
    {
     "data": {
      "text/plain": [
       "array([[3, 6, 2],\n",
       "       [4, 5, 1]])"
      ]
     },
     "execution_count": 20,
     "metadata": {},
     "output_type": "execute_result"
    }
   ],
   "source": [
    "a= np.array([[3,6,2],[4,5,1]])\n",
    "a"
   ]
  },
  {
   "cell_type": "code",
   "execution_count": 21,
   "id": "5a0f8154-dcf4-4229-b40d-0fc25cb83a26",
   "metadata": {},
   "outputs": [
    {
     "data": {
      "text/plain": [
       "1"
      ]
     },
     "execution_count": 21,
     "metadata": {},
     "output_type": "execute_result"
    }
   ],
   "source": [
    "#finding minimum\n",
    "np.min(a)"
   ]
  },
  {
   "cell_type": "code",
   "execution_count": 22,
   "id": "da428549-3bf9-4112-ab2d-d1a561026356",
   "metadata": {},
   "outputs": [
    {
     "data": {
      "text/plain": [
       "array([2, 1])"
      ]
     },
     "execution_count": 22,
     "metadata": {},
     "output_type": "execute_result"
    }
   ],
   "source": [
    "#row wise minimum\n",
    "np.min(a,axis=1)"
   ]
  },
  {
   "cell_type": "code",
   "execution_count": 23,
   "id": "834004c6-c093-4150-a4ba-7afd8a77b3a7",
   "metadata": {},
   "outputs": [
    {
     "data": {
      "text/plain": [
       "array([3, 5, 1])"
      ]
     },
     "execution_count": 23,
     "metadata": {},
     "output_type": "execute_result"
    }
   ],
   "source": [
    "#column wise minimum\n",
    "np.min(a,0)"
   ]
  },
  {
   "cell_type": "code",
   "execution_count": 24,
   "id": "eab5c202-6e9c-48d0-bb07-1c3a47eb2abe",
   "metadata": {},
   "outputs": [
    {
     "data": {
      "text/plain": [
       "6"
      ]
     },
     "execution_count": 24,
     "metadata": {},
     "output_type": "execute_result"
    }
   ],
   "source": [
    "#finding max\n",
    "np.max(a)"
   ]
  },
  {
   "cell_type": "code",
   "execution_count": 28,
   "id": "0a5db1ef-8f3d-4e56-9792-dc517dff1fbf",
   "metadata": {},
   "outputs": [
    {
     "data": {
      "text/plain": [
       "array([6, 5])"
      ]
     },
     "execution_count": 28,
     "metadata": {},
     "output_type": "execute_result"
    }
   ],
   "source": [
    "#row-wise max\n",
    "np.max(a, axis=1)"
   ]
  },
  {
   "cell_type": "code",
   "execution_count": 29,
   "id": "1ba910fe-db78-4889-8932-fce9239d9abe",
   "metadata": {},
   "outputs": [
    {
     "data": {
      "text/plain": [
       "array([4, 6, 2])"
      ]
     },
     "execution_count": 29,
     "metadata": {},
     "output_type": "execute_result"
    }
   ],
   "source": [
    "#column-wise max\n",
    "np.max(a,0)"
   ]
  },
  {
   "cell_type": "code",
   "execution_count": 30,
   "id": "4161efd8-2bcd-4bb0-ac24-ad47e7b53696",
   "metadata": {},
   "outputs": [
    {
     "data": {
      "text/plain": [
       "21"
      ]
     },
     "execution_count": 30,
     "metadata": {},
     "output_type": "execute_result"
    }
   ],
   "source": [
    "#sum of complete array\n",
    "np.sum(a)"
   ]
  },
  {
   "cell_type": "code",
   "execution_count": 31,
   "id": "bbece5d1-c0a6-48e2-a75d-7e71c1c257c6",
   "metadata": {},
   "outputs": [
    {
     "data": {
      "text/plain": [
       "array([11, 10])"
      ]
     },
     "execution_count": 31,
     "metadata": {},
     "output_type": "execute_result"
    }
   ],
   "source": [
    "#row-wise sum\n",
    "np.sum(a,1)"
   ]
  },
  {
   "cell_type": "code",
   "execution_count": 32,
   "id": "390736a1-d085-4be1-9723-8643e21045e0",
   "metadata": {},
   "outputs": [
    {
     "data": {
      "text/plain": [
       "array([ 7, 11,  3])"
      ]
     },
     "execution_count": 32,
     "metadata": {},
     "output_type": "execute_result"
    }
   ],
   "source": [
    "#column-wise sum\n",
    "np.sum(a, axis=0)"
   ]
  },
  {
   "cell_type": "code",
   "execution_count": 33,
   "id": "a61cd290-c33b-4237-87a2-21873bf248c4",
   "metadata": {},
   "outputs": [
    {
     "data": {
      "text/plain": [
       "3.5"
      ]
     },
     "execution_count": 33,
     "metadata": {},
     "output_type": "execute_result"
    }
   ],
   "source": [
    "#finding mean\n",
    "np.mean(a)"
   ]
  },
  {
   "cell_type": "code",
   "execution_count": 34,
   "id": "ea0f71c3-5165-465f-963f-b799d3b6f8a6",
   "metadata": {},
   "outputs": [
    {
     "data": {
      "text/plain": [
       "3.5"
      ]
     },
     "execution_count": 34,
     "metadata": {},
     "output_type": "execute_result"
    }
   ],
   "source": [
    "#finding median\n",
    "np.median(a)"
   ]
  },
  {
   "cell_type": "code",
   "execution_count": 35,
   "id": "2a4ecfcc-1bc4-493b-9d43-c81548201ea8",
   "metadata": {},
   "outputs": [
    {
     "data": {
      "text/plain": [
       "1.707825127659933"
      ]
     },
     "execution_count": 35,
     "metadata": {},
     "output_type": "execute_result"
    }
   ],
   "source": [
    "#standard deviation\n",
    "np.std(a)"
   ]
  },
  {
   "cell_type": "code",
   "execution_count": 36,
   "id": "2e7ce13e-76e5-49d5-b9b6-305360204f99",
   "metadata": {},
   "outputs": [
    {
     "data": {
      "text/plain": [
       "2.9166666666666665"
      ]
     },
     "execution_count": 36,
     "metadata": {},
     "output_type": "execute_result"
    }
   ],
   "source": [
    "#variance\n",
    "np.var(a)"
   ]
  },
  {
   "cell_type": "markdown",
   "id": "803e9012-fc25-4890-9336-902b54c96d8e",
   "metadata": {},
   "source": [
    "### Linear Equation \n",
    "    # 4X + 5Y = 13\n",
    "    # 5X - 3Y = 7"
   ]
  },
  {
   "cell_type": "code",
   "execution_count": 38,
   "id": "25a8b22c-c01e-4bbc-895c-5b944883cf28",
   "metadata": {},
   "outputs": [
    {
     "data": {
      "text/plain": [
       "array([2., 1.])"
      ]
     },
     "execution_count": 38,
     "metadata": {},
     "output_type": "execute_result"
    }
   ],
   "source": [
    "coff1 = np.array([[4,5],[5,-3]])\n",
    "coff2 = np.array([13,7])\n",
    "np.linalg.solve(coff1,coff2)"
   ]
  },
  {
   "cell_type": "code",
   "execution_count": null,
   "id": "3d484fe9-d8c0-4631-b3eb-6b7f71313920",
   "metadata": {},
   "outputs": [],
   "source": []
  }
 ],
 "metadata": {
  "kernelspec": {
   "display_name": "Python 3 (ipykernel)",
   "language": "python",
   "name": "python3"
  },
  "language_info": {
   "codemirror_mode": {
    "name": "ipython",
    "version": 3
   },
   "file_extension": ".py",
   "mimetype": "text/x-python",
   "name": "python",
   "nbconvert_exporter": "python",
   "pygments_lexer": "ipython3",
   "version": "3.12.0"
  }
 },
 "nbformat": 4,
 "nbformat_minor": 5
}
